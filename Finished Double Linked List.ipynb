{
 "cells": [
  {
   "cell_type": "markdown",
   "id": "04faba94",
   "metadata": {},
   "source": [
    "# Assignment\n",
    "\n",
    "## Create a Doubly Linked List from scratch following the principles of a Node and Python List class\n",
    "\n",
    "    What can a Doubly Linked List Do? \n",
    "        1. Has a head\n",
    "        2. Can have a tail optionally\n",
    "                Having a tail makes it easier to access the last item in the list for a peak function\n",
    "        3. Links each Node foreward and Backward\n",
    "            This requires prev and next parameters\n",
    "        4. Can insert a Node at any index of the list\n",
    "        5. Can remove a Node at any index of the list\n",
    "\n"
   ]
  },
  {
   "cell_type": "markdown",
   "id": "ffcec0df",
   "metadata": {},
   "source": [
    "# Pseudocode\n",
    "\n",
    "## Append:\n",
    "    - First Item added to list:\n",
    "        1. check to see if self.head exists\n",
    "        2. if it doesn't exist because this is the first item being added then:\n",
    "            add the Node and set as self.head\n",
    "     -Not the first Item added to the list:\n",
    "        1. check to see if self.head exists\n",
    "        2. if it does exist because there are items in the list then:\n",
    "            traverse the list to find the last item\n",
    "            1. this will be self.next = None\n",
    "            2. set the previous.next as new Node(item)\n",
    "            2. set the new Node(item).previous as the previous Node\n",
    "            \n",
    "        ***IMPORTANT to remember to update both previous and next nodes to maintain the double linkage\n",
    "        \n",
    "        \n",
    "## Insert:\n",
    "    Four possible cases:\n",
    "    1. inserting into an empty list\n",
    "    2. inserting before the head item\n",
    "    3. inserting at the end of the list\n",
    "        possibility for the index to be longer than the length of the list, need to terminate early if we reach the end of the list\n",
    "    4. inserting between two items\n",
    "    \n",
    "    \n",
    "    Case 1: check to see if self.head exists\n",
    "        if it doesn't exists then:\n",
    "            the index number does not matter\n",
    "            call Node(item) and set to = self.head\n",
    "    Case 2: if index == 0 then:\n",
    "        call Node(item) and set to new_node\n",
    "        set self.head to = current\n",
    "        update new_node to = self.head\n",
    "        update the new_node.next to = current\n",
    "        update the current.prev = new_node\n",
    "    case 3: if index >= the length of the list\n",
    "        check the length of the list\n",
    "        if the index >= the length of the list then \n",
    "            traverse the list until current.next = None\n",
    "            when current.next = None that is the end of the list\n",
    "                new_node = Node(item)\n",
    "                current.next = new_node\n",
    "                new_node.prev = current\n",
    "                \n",
    "    case 4: if index is less than the length of the list then:\n",
    "        traverse the list for index number of times\n",
    "        add a counter to the traverse to know when to stop\n",
    "            when stopped:\n",
    "                new_node = Node(item)\n",
    "                previous = current.prev\n",
    "                previous.next = new_node.prev\n",
    "                new_node.next = current\n",
    "                current.prev = new_node\n",
    "\n",
    "## Remove:\n",
    "    5 possible cases:\n",
    "        1. removing from an empty list\n",
    "        2. removing the head Node\n",
    "        3. removing the last Node\n",
    "        4. removing a Node in the middle\n",
    "        5. Node.data is not in the list\n",
    "        \n",
    "    case 1:\n",
    "        check to see if self.head exists\n",
    "        if not return a ValueError\n",
    "    case 2/3/4:\n",
    "        if self.head exists traverse the list to find a case where\n",
    "        current.data = value\n",
    "            when the loop ends:\n",
    "                check to see if current = self.head\n",
    "                    if it does:\n",
    "                        current.next = self.head\n",
    "                        return current.data\n",
    "                    \n",
    "                if current != self.head then:\n",
    "                    check and see if current.next exists \n",
    "                    if it doesn't this is the last item in the list\n",
    "                        current.prev = None\n",
    "                        return current.data\n",
    "                        \n",
    "               if current.next exists:\n",
    "               then this is a Node in the middle\n",
    "                   previous = current.prev\n",
    "                   next = current.next\n",
    "                   previous.next = next\n",
    "                   next.prev = previous\n",
    "     case 5:\n",
    "         never find a time where current.data = value\n",
    "         return a ValueError\n",
    "         \n",
    "     \n",
    "                   \n",
    "               \n",
    "       "
   ]
  },
  {
   "cell_type": "code",
   "execution_count": 4,
   "id": "73d7cd4a",
   "metadata": {},
   "outputs": [],
   "source": [
    "class Node:\n",
    "    def __init__(self, data):\n",
    "        self.data = data\n",
    "        self.prev = None\n",
    "        self.next = None"
   ]
  },
  {
   "cell_type": "code",
   "execution_count": 57,
   "id": "58270366",
   "metadata": {},
   "outputs": [],
   "source": [
    "class DoubleLinkedList:\n",
    "    \n",
    "    def __init__(self):\n",
    "        self.head = None\n",
    "    \n",
    "    def append(self, item):\n",
    "        if not self.head:\n",
    "            self.head = Node(item)\n",
    "        \n",
    "        else:\n",
    "            current = self.head\n",
    "            while current.next:\n",
    "                current = current.next\n",
    "            new_node = Node(item)\n",
    "            current.next = new_node\n",
    "            new_node.prev = current\n",
    "            \n",
    "    def insert(self, item, index):\n",
    "        if not self.head:\n",
    "            self.head = Node(item)\n",
    "        elif index <= 0:\n",
    "            new_node = Node(item)\n",
    "            current = self.head\n",
    "            new_node.next = current\n",
    "            current.prev = new_node\n",
    "            self.head = new_node\n",
    "        else:\n",
    "            current = self.head\n",
    "            counter = 0\n",
    "            while current.next and counter != index:\n",
    "                current = current.next\n",
    "                counter += 1\n",
    "            \n",
    "            if counter != index: \n",
    "                new_node = Node(item)\n",
    "                current.next = new_node\n",
    "                new_node.prev = current\n",
    "            else:\n",
    "                new_node = Node(item)\n",
    "                previous = current.prev\n",
    "                nexxt = current.next\n",
    "                \n",
    "                previous.next = new_node\n",
    "                nexxt.prev = new_node\n",
    "                \n",
    "                new_node.prev = previous\n",
    "                new_node.next = nexxt\n",
    "    \n",
    "    def remove(self, value):\n",
    "        current = self.head\n",
    "        counter = 0\n",
    "        \n",
    "        if self.is_empty():\n",
    "            raise ValueError(\"Empty List\")\n",
    "            \n",
    "        while current and current.data != value:\n",
    "            current = current.next\n",
    "        \n",
    "        if current:\n",
    "            if current == self.head:\n",
    "                nexxt = current.next\n",
    "                self.head = nexxt\n",
    "                return current.data\n",
    "            elif not current.next:\n",
    "                previous = current.prev\n",
    "                previous.next = None\n",
    "                return current.data\n",
    "            else:\n",
    "                previous = current.prev\n",
    "                nexxt = current.next\n",
    "                previous.next = nexxt\n",
    "                nexxt.prev = previous\n",
    "                return current.data\n",
    "        else:\n",
    "            raise ValueError(\"Value Not in List\")\n",
    "            \n",
    "            \n",
    "    def is_empty(self):\n",
    "        if not self.head:\n",
    "            return True\n",
    "        else:\n",
    "            return False\n",
    "        \n",
    "    def add_all(self):\n",
    "        total = 0\n",
    "        current = self.head\n",
    "        \n",
    "        while current:\n",
    "            total += current.data\n",
    "            current = current.next\n",
    "        return total\n",
    "    \n",
    "    def __str__(self):\n",
    "        out_str = \"[\"\n",
    "        if self.head:\n",
    "            current = self.head\n",
    "            out_str += '%s' % current.data\n",
    "            while current:\n",
    "                current = current.next\n",
    "                if current:\n",
    "                    out_str += \", %s\" % current.data\n",
    "        out_str += \"]\"\n",
    "        return out_str"
   ]
  },
  {
   "cell_type": "code",
   "execution_count": 36,
   "id": "a24d8384",
   "metadata": {},
   "outputs": [
    {
     "name": "stdout",
     "output_type": "stream",
     "text": [
      "[0, 1, 2, 3, 4, 5, 6, 7, 8, 9, 10]\n"
     ]
    }
   ],
   "source": [
    "double_test = DoubleLinkedList()\n",
    "\n",
    "for number in range(11):\n",
    "    double_test.append(number)\n",
    "    \n",
    "print(double_test)\n"
   ]
  },
  {
   "cell_type": "code",
   "execution_count": 7,
   "id": "5aa116ac",
   "metadata": {},
   "outputs": [
    {
     "name": "stdout",
     "output_type": "stream",
     "text": [
      "[99, 0, 1, 2, 3, 4, 5, 6, 7, 8, 9, 10]\n"
     ]
    }
   ],
   "source": [
    "#testing insert at the head\n",
    "double_test.insert(99, 0)\n",
    "print(double_test)"
   ]
  },
  {
   "cell_type": "code",
   "execution_count": 8,
   "id": "89233e57",
   "metadata": {},
   "outputs": [
    {
     "name": "stdout",
     "output_type": "stream",
     "text": [
      "[99, 0, 1, 2, 3, 4, 5, 6, 7, 8, 9, 10, 99]\n"
     ]
    }
   ],
   "source": [
    "#testing insert at the end\n",
    "double_test.insert(99, 12)\n",
    "print(double_test)"
   ]
  },
  {
   "cell_type": "code",
   "execution_count": 9,
   "id": "dd00c3f5",
   "metadata": {},
   "outputs": [
    {
     "name": "stdout",
     "output_type": "stream",
     "text": [
      "[99, 0, 1, 2, 3, 4, 5, 6, 7, 8, 9, 10, 99, 99]\n"
     ]
    }
   ],
   "source": [
    "#testing insert at greater than the end\n",
    "double_test.insert(99, 99)\n",
    "print(double_test)"
   ]
  },
  {
   "cell_type": "code",
   "execution_count": 10,
   "id": "3d411599",
   "metadata": {},
   "outputs": [
    {
     "name": "stdout",
     "output_type": "stream",
     "text": [
      "[99, 0, 1, 2, 3, 99, 5, 6, 7, 8, 9, 10, 99, 99]\n"
     ]
    }
   ],
   "source": [
    "#testing insert at a middle point\n",
    "double_test.insert(99, 5)\n",
    "print(double_test)"
   ]
  },
  {
   "cell_type": "code",
   "execution_count": 58,
   "id": "e709763e",
   "metadata": {},
   "outputs": [
    {
     "name": "stdout",
     "output_type": "stream",
     "text": [
      "[0, 1, 2, 3, 4, 5, 6, 7, 8, 9, 10]\n"
     ]
    }
   ],
   "source": [
    "remove_test = DoubleLinkedList()\n",
    "\n",
    "for number in range(11):\n",
    "    remove_test.append(number)\n",
    "    \n",
    "print(remove_test)"
   ]
  },
  {
   "cell_type": "code",
   "execution_count": 59,
   "id": "23ab2863",
   "metadata": {},
   "outputs": [
    {
     "data": {
      "text/plain": [
       "10"
      ]
     },
     "execution_count": 59,
     "metadata": {},
     "output_type": "execute_result"
    }
   ],
   "source": [
    "#testing remove the last number\n",
    "remove_test.remove(10)"
   ]
  },
  {
   "cell_type": "code",
   "execution_count": 60,
   "id": "368ea474",
   "metadata": {},
   "outputs": [
    {
     "name": "stdout",
     "output_type": "stream",
     "text": [
      "[0, 1, 2, 3, 4, 5, 6, 7, 8, 9]\n"
     ]
    }
   ],
   "source": [
    "print(remove_test)"
   ]
  },
  {
   "cell_type": "code",
   "execution_count": 61,
   "id": "a5ca6658",
   "metadata": {},
   "outputs": [
    {
     "data": {
      "text/plain": [
       "5"
      ]
     },
     "execution_count": 61,
     "metadata": {},
     "output_type": "execute_result"
    }
   ],
   "source": [
    "#testing remove a middle number\n",
    "remove_test.remove(5)"
   ]
  },
  {
   "cell_type": "code",
   "execution_count": 62,
   "id": "c3fd24ab",
   "metadata": {},
   "outputs": [
    {
     "name": "stdout",
     "output_type": "stream",
     "text": [
      "[0, 1, 2, 3, 4, 6, 7, 8, 9]\n"
     ]
    }
   ],
   "source": [
    "print(remove_test)"
   ]
  },
  {
   "cell_type": "code",
   "execution_count": 63,
   "id": "1fe74888",
   "metadata": {},
   "outputs": [
    {
     "ename": "ValueError",
     "evalue": "Value Not in List",
     "output_type": "error",
     "traceback": [
      "\u001b[0;31m---------------------------------------------------------------------------\u001b[0m",
      "\u001b[0;31mValueError\u001b[0m                                Traceback (most recent call last)",
      "Cell \u001b[0;32mIn [63], line 2\u001b[0m\n\u001b[1;32m      1\u001b[0m \u001b[38;5;66;03m#testing remove a number not in the list\u001b[39;00m\n\u001b[0;32m----> 2\u001b[0m \u001b[43mremove_test\u001b[49m\u001b[38;5;241;43m.\u001b[39;49m\u001b[43mremove\u001b[49m\u001b[43m(\u001b[49m\u001b[38;5;241;43m10\u001b[39;49m\u001b[43m)\u001b[49m\n",
      "Cell \u001b[0;32mIn [57], line 75\u001b[0m, in \u001b[0;36mDoubleLinkedList.remove\u001b[0;34m(self, value)\u001b[0m\n\u001b[1;32m     73\u001b[0m         \u001b[38;5;28;01mreturn\u001b[39;00m current\u001b[38;5;241m.\u001b[39mdata\n\u001b[1;32m     74\u001b[0m \u001b[38;5;28;01melse\u001b[39;00m:\n\u001b[0;32m---> 75\u001b[0m     \u001b[38;5;28;01mraise\u001b[39;00m \u001b[38;5;167;01mValueError\u001b[39;00m(\u001b[38;5;124m\"\u001b[39m\u001b[38;5;124mValue Not in List\u001b[39m\u001b[38;5;124m\"\u001b[39m)\n",
      "\u001b[0;31mValueError\u001b[0m: Value Not in List"
     ]
    }
   ],
   "source": [
    "#testing remove a number not in the list\n",
    "remove_test.remove(10)"
   ]
  },
  {
   "cell_type": "code",
   "execution_count": 64,
   "id": "624db199",
   "metadata": {},
   "outputs": [
    {
     "data": {
      "text/plain": [
       "0"
      ]
     },
     "execution_count": 64,
     "metadata": {},
     "output_type": "execute_result"
    }
   ],
   "source": [
    "#testing remove the first number\n",
    "remove_test.remove(0)"
   ]
  },
  {
   "cell_type": "code",
   "execution_count": 65,
   "id": "b77f898c",
   "metadata": {},
   "outputs": [
    {
     "name": "stdout",
     "output_type": "stream",
     "text": [
      "[1, 2, 3, 4, 6, 7, 8, 9]\n"
     ]
    }
   ],
   "source": [
    "print(remove_test)"
   ]
  },
  {
   "cell_type": "code",
   "execution_count": 66,
   "id": "0fa36372",
   "metadata": {},
   "outputs": [
    {
     "name": "stdout",
     "output_type": "stream",
     "text": [
      "[]\n"
     ]
    },
    {
     "ename": "ValueError",
     "evalue": "Empty List",
     "output_type": "error",
     "traceback": [
      "\u001b[0;31m---------------------------------------------------------------------------\u001b[0m",
      "\u001b[0;31mValueError\u001b[0m                                Traceback (most recent call last)",
      "Cell \u001b[0;32mIn [66], line 4\u001b[0m\n\u001b[1;32m      2\u001b[0m empty_test \u001b[38;5;241m=\u001b[39m DoubleLinkedList()\n\u001b[1;32m      3\u001b[0m \u001b[38;5;28mprint\u001b[39m(empty_test)\n\u001b[0;32m----> 4\u001b[0m \u001b[43mempty_test\u001b[49m\u001b[38;5;241;43m.\u001b[39;49m\u001b[43mremove\u001b[49m\u001b[43m(\u001b[49m\u001b[38;5;241;43m10\u001b[39;49m\u001b[43m)\u001b[49m\n",
      "Cell \u001b[0;32mIn [57], line 54\u001b[0m, in \u001b[0;36mDoubleLinkedList.remove\u001b[0;34m(self, value)\u001b[0m\n\u001b[1;32m     51\u001b[0m counter \u001b[38;5;241m=\u001b[39m \u001b[38;5;241m0\u001b[39m\n\u001b[1;32m     53\u001b[0m \u001b[38;5;28;01mif\u001b[39;00m \u001b[38;5;28mself\u001b[39m\u001b[38;5;241m.\u001b[39mis_empty():\n\u001b[0;32m---> 54\u001b[0m     \u001b[38;5;28;01mraise\u001b[39;00m \u001b[38;5;167;01mValueError\u001b[39;00m(\u001b[38;5;124m\"\u001b[39m\u001b[38;5;124mEmpty List\u001b[39m\u001b[38;5;124m\"\u001b[39m)\n\u001b[1;32m     56\u001b[0m \u001b[38;5;28;01mwhile\u001b[39;00m current \u001b[38;5;129;01mand\u001b[39;00m current\u001b[38;5;241m.\u001b[39mdata \u001b[38;5;241m!=\u001b[39m value:\n\u001b[1;32m     57\u001b[0m     current \u001b[38;5;241m=\u001b[39m current\u001b[38;5;241m.\u001b[39mnext\n",
      "\u001b[0;31mValueError\u001b[0m: Empty List"
     ]
    }
   ],
   "source": [
    "#test removing from an empty list\n",
    "empty_test = DoubleLinkedList()\n",
    "print(empty_test)\n",
    "empty_test.remove(10)"
   ]
  }
 ],
 "metadata": {
  "kernelspec": {
   "display_name": "Python 3 (ipykernel)",
   "language": "python",
   "name": "python3"
  },
  "language_info": {
   "codemirror_mode": {
    "name": "ipython",
    "version": 3
   },
   "file_extension": ".py",
   "mimetype": "text/x-python",
   "name": "python",
   "nbconvert_exporter": "python",
   "pygments_lexer": "ipython3",
   "version": "3.10.6"
  }
 },
 "nbformat": 4,
 "nbformat_minor": 5
}
