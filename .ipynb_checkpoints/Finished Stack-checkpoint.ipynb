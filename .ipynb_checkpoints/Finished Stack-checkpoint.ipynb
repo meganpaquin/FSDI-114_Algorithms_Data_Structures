{
 "cells": [
  {
   "cell_type": "markdown",
   "id": "79c5dac3",
   "metadata": {},
   "source": [
    "# Create a Stack Class from scratch\n",
    "    Should include a function to push a new item\n",
    "    Should include a function to pop an item\n",
    "    Should include a function to peek at the top item\n",
    "    Should include a function to return the size\n",
    "    Should include a function to see the stack is emtpy"
   ]
  },
  {
   "cell_type": "markdown",
   "id": "ccf88bfc",
   "metadata": {},
   "source": [
    "# Pseudocode for problem\n"
   ]
  },
  {
   "cell_type": "code",
   "execution_count": 3,
   "id": "b0742401",
   "metadata": {},
   "outputs": [],
   "source": [
    "class Node:\n",
    "    def __init__(self, data):\n",
    "        self.data = data\n",
    "        self.above = None"
   ]
  },
  {
   "cell_type": "code",
   "execution_count": 4,
   "id": "794947c0",
   "metadata": {},
   "outputs": [],
   "source": [
    "class Stack:\n",
    "    def __init__(self):\n",
    "        self.base = None\n",
    "    \n",
    "    def is_empty(self):\n",
    "        return self.base == None\n",
    "    \n",
    "    def push(self, item):\n",
    "        if not self.base:\n",
    "            self.base = Node(item)\n",
    "        else:\n",
    "            current = self.base\n",
    "            while current.above:\n",
    "                current = current.above\n",
    "            current.above = Node(item)\n",
    "            \n",
    "    def pop(self):\n",
    "        if self.base:\n",
    "            prev = None\n",
    "            current = self.base\n",
    "            while current.above:\n",
    "                prev = current\n",
    "                current = current.above\n",
    "            if not prev:\n",
    "                self.base = None\n",
    "                return current.data\n",
    "            prev.above = None\n",
    "            return current.data\n",
    "        raise IndexError(\"pop from empty stack\")\n",
    "        \n",
    "   \n",
    "    def peek(self):\n",
    "        #views the topmost value in the stack\n",
    "        current = self.base\n",
    "        while current:\n",
    "            current = current.above\n",
    "        if not current:\n",
    "            raise IndexError(\"This is an empty stack\")\n",
    "        return current.data\n",
    "    \n",
    "    def size(self):\n",
    "        #returns the number of items in the stack\n",
    "        counter = 0\n",
    "        current = self.base\n",
    "        while current:\n",
    "            counter += 1\n",
    "            current = current.above\n",
    "        return counter"
   ]
  },
  {
   "cell_type": "code",
   "execution_count": 6,
   "id": "3acc9933",
   "metadata": {},
   "outputs": [],
   "source": [
    "#Testing our new stack\n",
    "def reverse_str(mystring):\n",
    "    stack = Stack()\n",
    "    for letter in mystring:\n",
    "        stack.push(letter)\n",
    "    \n",
    "    out_str = \"\"\n",
    "    while not stack.is_empty():\n",
    "        out_str = out_str + stack.pop()\n",
    "    return out_str"
   ]
  },
  {
   "cell_type": "code",
   "execution_count": 7,
   "id": "44fc7577",
   "metadata": {},
   "outputs": [
    {
     "data": {
      "text/plain": [
       "'dlroW olleH'"
      ]
     },
     "execution_count": 7,
     "metadata": {},
     "output_type": "execute_result"
    }
   ],
   "source": [
    "reverse_str(\"Hello World\")"
   ]
  },
  {
   "cell_type": "code",
   "execution_count": null,
   "id": "2a68a4e6",
   "metadata": {},
   "outputs": [],
   "source": []
  }
 ],
 "metadata": {
  "kernelspec": {
   "display_name": "Python 3 (ipykernel)",
   "language": "python",
   "name": "python3"
  },
  "language_info": {
   "codemirror_mode": {
    "name": "ipython",
    "version": 3
   },
   "file_extension": ".py",
   "mimetype": "text/x-python",
   "name": "python",
   "nbconvert_exporter": "python",
   "pygments_lexer": "ipython3",
   "version": "3.10.6"
  }
 },
 "nbformat": 4,
 "nbformat_minor": 5
}
