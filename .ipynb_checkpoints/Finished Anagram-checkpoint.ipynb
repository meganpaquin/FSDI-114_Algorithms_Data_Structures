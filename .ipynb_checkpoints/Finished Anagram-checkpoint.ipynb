{
 "cells": [
  {
   "cell_type": "code",
   "execution_count": 2,
   "id": "fea19ca3",
   "metadata": {},
   "outputs": [
    {
     "name": "stdout",
     "output_type": "stream",
     "text": [
      "h\n",
      "e\n",
      "l\n",
      "l\n",
      "o\n",
      ",\n",
      " \n",
      "w\n",
      "o\n",
      "r\n",
      "l\n",
      "d\n",
      "!\n"
     ]
    }
   ],
   "source": [
    "for letter in \"hello, world!\":\n",
    "    print(letter)\n",
    "# shift+enter to run the code"
   ]
  },
  {
   "cell_type": "markdown",
   "id": "f3735a2e",
   "metadata": {},
   "source": [
    "# Problem 1\n",
    "\n",
    "## Given two strings as input determine if they are anagrams:\n",
    "\n",
    "Conditions:\n",
    "1. They must be exactly the same length\n",
    "2. They must use exactly the same characters\n"
   ]
  },
  {
   "cell_type": "markdown",
   "id": "351ccfea",
   "metadata": {},
   "source": [
    "# PSEUDOCODE Analysis\n",
    "\n",
    "define the function\n",
    "function must take two input parameters\n",
    "check the length of each input if != exit with false\n",
    "edit the inputs to all lowercase data\n",
    "convert the strings into dictionaries\n",
    "count the occurances of a unique character for each character of string\n",
    "compare the two dict to see if they match\n",
    "return true if they match return false if not match\n",
    "\n",
    "what if there are repetitive letters?\n",
    "what if there are spaces?\n",
    "what if capital letters?\n"
   ]
  },
  {
   "cell_type": "code",
   "execution_count": 10,
   "id": "a09ed141",
   "metadata": {},
   "outputs": [],
   "source": [
    "def count_length(args):\n",
    "        for letter in args:\n",
    "            count = 0\n",
    "            if letter != \"\":\n",
    "                count += 1\n",
    "        return count\n",
    "    \n",
    "def is_anagram(string1, string2):\n",
    "    result = False\n",
    "    \n",
    "    #convert to lowercase\n",
    "    str1 = string1.lower()\n",
    "    str2 = string2.lower()\n",
    "        \n",
    "    #check if lengths match to easy exit\n",
    "    if count_length(str1) != count_length(str2):\n",
    "        return result\n",
    "    else:\n",
    "        #create empty dict for each string\n",
    "        dict_str1 = {}\n",
    "        dict_str2 = {}\n",
    "        \n",
    "        #travel the string and add unique letters to the empty dict\n",
    "        for letter in str1:\n",
    "            if letter != \"\":\n",
    "                verify = True\n",
    "                if letter in dict_str1:\n",
    "                    dict_str1[letter] += 1\n",
    "                else:\n",
    "                    dict_str1[letter] = 1\n",
    "                    \n",
    "        for letter in str2:\n",
    "            if letter != \"\":\n",
    "                verify = True\n",
    "                if letter in dict_str2:\n",
    "                    dict_str2[letter] += 1\n",
    "                else:\n",
    "                    dict_str2[letter] = 1\n",
    "        \n",
    "        #immediately end if any letter from dict1 is not inside dict2\n",
    "        for each in dict_str1:\n",
    "            if each in dict_str2:\n",
    "                result = True\n",
    "            else:\n",
    "                result = False\n",
    "        #do it backwards to check keys from dict2 is inside dict1\n",
    "        for each in dict_str2:\n",
    "            if each in dict_str1:\n",
    "                result = True\n",
    "            else:\n",
    "                result = False  \n",
    "                \n",
    "        #return the result\n",
    "        return result\n",
    "        "
   ]
  },
  {
   "cell_type": "code",
   "execution_count": 4,
   "id": "f2f139f9",
   "metadata": {},
   "outputs": [
    {
     "data": {
      "text/plain": [
       "True"
      ]
     },
     "execution_count": 4,
     "metadata": {},
     "output_type": "execute_result"
    }
   ],
   "source": [
    "#Test a simple true condition\n",
    "is_anagram(\"angel\", \"glean\")"
   ]
  },
  {
   "cell_type": "code",
   "execution_count": 5,
   "id": "7ffeec25",
   "metadata": {},
   "outputs": [
    {
     "data": {
      "text/plain": [
       "True"
      ]
     },
     "execution_count": 5,
     "metadata": {},
     "output_type": "execute_result"
    }
   ],
   "source": [
    "#Test a true condition with repeating letters\n",
    "is_anagram(\"sadder\", \"dreads\")"
   ]
  },
  {
   "cell_type": "code",
   "execution_count": 7,
   "id": "55ed1505",
   "metadata": {},
   "outputs": [
    {
     "data": {
      "text/plain": [
       "True"
      ]
     },
     "execution_count": 7,
     "metadata": {},
     "output_type": "execute_result"
    }
   ],
   "source": [
    "#Test a true condition with spaces and capital letters\n",
    "is_anagram(\"I am Lord Voldemort\", \"Tom Marvolo Riddle\")"
   ]
  },
  {
   "cell_type": "code",
   "execution_count": 8,
   "id": "191b9970",
   "metadata": {},
   "outputs": [
    {
     "data": {
      "text/plain": [
       "False"
      ]
     },
     "execution_count": 8,
     "metadata": {},
     "output_type": "execute_result"
    }
   ],
   "source": [
    "#Test a simple false condition\n",
    "is_anagram(\"Trial\", \"alive\")"
   ]
  },
  {
   "cell_type": "code",
   "execution_count": 9,
   "id": "c35b1753",
   "metadata": {
    "scrolled": true
   },
   "outputs": [
    {
     "data": {
      "text/plain": [
       "False"
      ]
     },
     "execution_count": 9,
     "metadata": {},
     "output_type": "execute_result"
    }
   ],
   "source": [
    "#Test a false condition for length of strings\n",
    "is_anagram(\"flies\", \"flew\")"
   ]
  },
  {
   "cell_type": "markdown",
   "id": "74df756e",
   "metadata": {},
   "source": [
    "# How can this solution be improved?\n",
    "    1. Could we consolidate the for-statement to create the two dictionaries into a function to reduce length of code?\n",
    "    2. Are there any other ways to quickly return false similar to length of strings?\n",
    "    3. When comparing the two new dictionaries would a simple comparison of length be sufficient?\n",
    "        Current State: checking each key in dict1 against each key in dict2 to see if any are non-matching. The operation needs to be done both directions in this instance.\n",
    "        Why does it need to be done in both directions? \n",
    "            dict1[H:1, E:1, L:2, O:1] vs dict2[H:1, E:1, L:1, O:1, P:1]\n",
    "            In this example both dicts have 5 letters\n",
    "            If we only compared each in dict1 is in dict2 the result would be True\n",
    "            When we compare each in dict2 is in dict1 this triggers the False because of the P:1\n",
    "            \n",
    "        Would it be sufficient to solve this by comparing the dictionary length?\n",
    "               then dict1[H:1, E:1, L:2, O:1] vs dict2[H:1, E:1, L:1, O:1, P:1]\n",
    "               len(dict1) = 4 and len(dict2) = 5 which would trigger false\n",
    "                \n",
    "               What if the letters were all correct but not the proper quantity? \n",
    "               dict1[H:2, E:2, L:2] vs dict2[H:1, E:1, L:4]\n",
    "               string lengths = 6 and 6\n",
    "               dictionary lengths = 3 and 3\n",
    "               all letters match between dictionaries\n",
    "               ****Test this from old solution below****\n",
    "               "
   ]
  },
  {
   "cell_type": "code",
   "execution_count": 11,
   "id": "c7611e61",
   "metadata": {},
   "outputs": [
    {
     "data": {
      "text/plain": [
       "True"
      ]
     },
     "execution_count": 11,
     "metadata": {},
     "output_type": "execute_result"
    }
   ],
   "source": [
    "#Test the flaw found above where the letters are duplicated and not the correct number of each letter\n",
    "is_anagram(\"hheell\", \"hellll\")"
   ]
  },
  {
   "cell_type": "markdown",
   "id": "bc7e1a7e",
   "metadata": {},
   "source": [
    "# Pseudocode to solve error\n",
    "\n",
    "    1. define an anagram function that takes two arguments\n",
    "    2. define a counting function that takes one argument\n",
    "    3. pass both user generated strings into counting function to test the length of the string.\n",
    "        compare the length of both strings to see if they are equal\n",
    "        If the length of the strings is != immediately return false to end function\n",
    "    4. If either string length is zero return false to end function\n",
    "    5. Define a function that creates a dictionary from a string\n",
    "        Function received one input\n",
    "        One input is converted to all lowercase letters via lower()\n",
    "        for each letter in the string:\n",
    "            Check if the letter is a \"\"\n",
    "                If it is a \"\" do nothing and move to the next letter\n",
    "            Check if the letter is already a key in the dictionary\n",
    "                If it is add += 1 to the value of that key\n",
    "                If it is not add it to the dictionary as value = 1        \n",
    "    5. For each string send to the dictionary function\n",
    "    6. Check if two dictionaries are the same length\n",
    "        If != in length return False to end function\n",
    "    7. Check if all keys inside dict1 are inside dict2\n",
    "        For each of the keys in dict1 is it inside dict2\n",
    "            If not return False to end function\n",
    "        For each of the keys in dict2 is it inside dict1\n",
    "            If not return False to end function\n",
    "    8. Check that for each key in dict1 the value of the same key in dict2 is equal\n",
    "        If != return False to end function\n",
    "        \n",
    "    **Add print function to show where in the algorithm the input is failing if it fails.\n",
    "    \n",
    "**This solution starts with the most simple complexity of failure and moves to the most complexity of failure. This way if it is a simple solution it will run very quckly when only implementing the small portion of code. For the most complex failure it will take a considerable amount of time because it has to pass every previous checkpoint and each checkpoint gets progressivly longer.\n",
    "\n",
    "    Would it be faster to test the same argument in the different ways simultaneously to save time?\n",
    "    Is it possible to test in multiple ways simultaneously?\n",
    "    Is the processing power to test multiple ways simultaneously worth the saved time? \n"
   ]
  },
  {
   "cell_type": "code",
   "execution_count": 52,
   "id": "be02f74d",
   "metadata": {},
   "outputs": [],
   "source": [
    "def count_length(args):\n",
    "        for letter in args:\n",
    "            count = 0\n",
    "            if letter != \"\":\n",
    "                count += 1\n",
    "        return count\n",
    "    \n",
    "def make_dict(args):\n",
    "    new_dict = {}\n",
    "    for letter in args:\n",
    "        if letter != \" \":\n",
    "            if letter in new_dict:\n",
    "                new_dict[letter] += 1\n",
    "            else:\n",
    "                new_dict[letter] = 1\n",
    "        else:\n",
    "            next\n",
    "    return new_dict\n",
    "    \n",
    "def new_anagram(string1, string2):\n",
    "    result = False\n",
    "    \n",
    "    #convert to lowercase\n",
    "    str1 = string1.lower()\n",
    "    str2 = string2.lower()\n",
    "        \n",
    "    #check if lengths match to easy exit\n",
    "    if count_length(str1) != count_length(str2):\n",
    "        print(\"Failure due to string length\")\n",
    "        result = False\n",
    "        return result\n",
    "    else:\n",
    "        result = True\n",
    "\n",
    "    #create empty dict for each string\n",
    "    dict_str1 = {}\n",
    "    dict_str2 = {}\n",
    "        \n",
    "    #travel the string and add unique letters to the empty dict\n",
    "    dict_str1 = make_dict(str1)\n",
    "    dict_str2 = make_dict(str2)\n",
    "    \n",
    "    #check if dict1 and dict2 are the same length\n",
    "    dict1_len = 0\n",
    "    dict2_len = 0\n",
    "    \n",
    "    for each in dict_str1:\n",
    "        dict1_len += 1\n",
    "    for each in dict_str2:\n",
    "        dict2_len += 1\n",
    "        \n",
    "    if dict1_len != dict2_len:\n",
    "        print(\"Failure due to dictionary length\")\n",
    "        result = False\n",
    "        return result\n",
    "    else:\n",
    "        result = True\n",
    "\n",
    "    #check that each key in dict1 is inside dict2 and reverse\n",
    "    for each in dict_str1:\n",
    "        if each in dict_str2:\n",
    "            result = True\n",
    "        else:\n",
    "            print(\"Failure due to unalike letters\")\n",
    "            result = False\n",
    "            return result\n",
    "\n",
    "    for each in dict_str2:\n",
    "        if each in dict_str1:\n",
    "            result = True\n",
    "        else:\n",
    "            print(\"failue due to unalike letters\")\n",
    "            result = False\n",
    "            return result\n",
    "            \n",
    "    #Check that each key value pair matches between the two dictionaries\n",
    "    for each in dict_str1:\n",
    "        if dict_str1[each] != dict_str2[each]:\n",
    "            print(\"Failure due to key value ineqality\")\n",
    "            result = False\n",
    "            return result\n",
    "        else:\n",
    "            result = True\n",
    "        #this would trigger a key error if we didnt do the step to check that the key is \n",
    "        #inside dict2from the previous step\n",
    "        \n",
    "\n",
    "                \n",
    "    #return the result\n",
    "    return result\n",
    "        "
   ]
  },
  {
   "cell_type": "code",
   "execution_count": 46,
   "id": "f46526b1",
   "metadata": {},
   "outputs": [
    {
     "data": {
      "text/plain": [
       "True"
      ]
     },
     "execution_count": 46,
     "metadata": {},
     "output_type": "execute_result"
    }
   ],
   "source": [
    "#Test a simple true condition\n",
    "new_anagram(\"angel\", \"glean\")"
   ]
  },
  {
   "cell_type": "code",
   "execution_count": 47,
   "id": "c7edabe4",
   "metadata": {},
   "outputs": [
    {
     "data": {
      "text/plain": [
       "True"
      ]
     },
     "execution_count": 47,
     "metadata": {},
     "output_type": "execute_result"
    }
   ],
   "source": [
    "#Test a true condition with repeating letters\n",
    "new_anagram(\"sadder\", \"dreads\")"
   ]
  },
  {
   "cell_type": "code",
   "execution_count": 48,
   "id": "25ea7ae9",
   "metadata": {},
   "outputs": [
    {
     "data": {
      "text/plain": [
       "True"
      ]
     },
     "execution_count": 48,
     "metadata": {},
     "output_type": "execute_result"
    }
   ],
   "source": [
    "#Test a true condition with spaces and capital letters\n",
    "new_anagram(\"I am Lord Voldemort\", \"Tom Marvolo Riddle\")"
   ]
  },
  {
   "cell_type": "code",
   "execution_count": 49,
   "id": "3ed55179",
   "metadata": {},
   "outputs": [
    {
     "name": "stdout",
     "output_type": "stream",
     "text": [
      "Failure due to unalike letters\n"
     ]
    },
    {
     "data": {
      "text/plain": [
       "False"
      ]
     },
     "execution_count": 49,
     "metadata": {},
     "output_type": "execute_result"
    }
   ],
   "source": [
    "#Test a simple false condition\n",
    "new_anagram(\"Trial\", \"alive\")"
   ]
  },
  {
   "cell_type": "code",
   "execution_count": 50,
   "id": "b829db1e",
   "metadata": {},
   "outputs": [
    {
     "name": "stdout",
     "output_type": "stream",
     "text": [
      "Failure due to dictionary length\n"
     ]
    },
    {
     "data": {
      "text/plain": [
       "False"
      ]
     },
     "execution_count": 50,
     "metadata": {},
     "output_type": "execute_result"
    }
   ],
   "source": [
    "#Test a false condition for length of strings\n",
    "new_anagram(\"flies\", \"flew\")"
   ]
  },
  {
   "cell_type": "code",
   "execution_count": 53,
   "id": "2e869b5c",
   "metadata": {},
   "outputs": [
    {
     "name": "stdout",
     "output_type": "stream",
     "text": [
      "Failure due to key value ineqality\n"
     ]
    },
    {
     "data": {
      "text/plain": [
       "False"
      ]
     },
     "execution_count": 53,
     "metadata": {},
     "output_type": "execute_result"
    }
   ],
   "source": [
    "#Test the flaw found above where the letters are duplicated and not the correct number of each letter\n",
    "new_anagram(\"hheell\", \"hellll\")\n",
    "#should be false"
   ]
  },
  {
   "cell_type": "code",
   "execution_count": 4,
   "id": "df8f6d1c",
   "metadata": {},
   "outputs": [],
   "source": [
    "def testing(input=12345):\n",
    "    for each in input:\n",
    "        print(each)"
   ]
  },
  {
   "cell_type": "code",
   "execution_count": null,
   "id": "bc4db39d",
   "metadata": {},
   "outputs": [],
   "source": []
  }
 ],
 "metadata": {
  "kernelspec": {
   "display_name": "Python 3 (ipykernel)",
   "language": "python",
   "name": "python3"
  },
  "language_info": {
   "codemirror_mode": {
    "name": "ipython",
    "version": 3
   },
   "file_extension": ".py",
   "mimetype": "text/x-python",
   "name": "python",
   "nbconvert_exporter": "python",
   "pygments_lexer": "ipython3",
   "version": "3.10.6"
  }
 },
 "nbformat": 4,
 "nbformat_minor": 5
}
